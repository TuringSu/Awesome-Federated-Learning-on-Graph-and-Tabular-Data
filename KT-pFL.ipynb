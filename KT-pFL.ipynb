{
  "nbformat": 4,
  "nbformat_minor": 0,
  "metadata": {
    "colab": {
      "provenance": [],
      "gpuType": "T4",
      "authorship_tag": "ABX9TyO72KBjCClM10YMlgd2BRyR",
      "include_colab_link": true
    },
    "kernelspec": {
      "name": "python3",
      "display_name": "Python 3"
    },
    "language_info": {
      "name": "python"
    },
    "accelerator": "GPU",
    "gpuClass": "standard"
  },
  "cells": [
    {
      "cell_type": "markdown",
      "metadata": {
        "id": "view-in-github",
        "colab_type": "text"
      },
      "source": [
        "<a href=\"https://colab.research.google.com/github/TuringSu/Awesome-Federated-Learning-on-Graph-and-Tabular-Data/blob/main/KT-pFL.ipynb\" target=\"_parent\"><img src=\"https://colab.research.google.com/assets/colab-badge.svg\" alt=\"Open In Colab\"/></a>"
      ]
    },
    {
      "cell_type": "code",
      "execution_count": null,
      "metadata": {
        "colab": {
          "base_uri": "https://localhost:8080/"
        },
        "id": "_U1zqcF-Fmd8",
        "outputId": "87a4491e-9c6b-442a-caca-ed449479a363"
      },
      "outputs": [
        {
          "output_type": "stream",
          "name": "stdout",
          "text": [
            "Cloning into 'KT-pFL'...\n",
            "remote: Enumerating objects: 132, done.\u001b[K\n",
            "remote: Counting objects: 100% (10/10), done.\u001b[K\n",
            "remote: Compressing objects: 100% (10/10), done.\u001b[K\n",
            "remote: Total 132 (delta 4), reused 0 (delta 0), pack-reused 122\u001b[K\n",
            "Receiving objects: 100% (132/132), 1.26 MiB | 8.19 MiB/s, done.\n",
            "Resolving deltas: 100% (48/48), done.\n"
          ]
        }
      ],
      "source": [
        "!git clone https://github.com/TuringSu/KT-pFL.git"
      ]
    },
    {
      "cell_type": "code",
      "source": [],
      "metadata": {
        "id": "SXG3OXglTKwX"
      },
      "execution_count": null,
      "outputs": []
    },
    {
      "cell_type": "code",
      "source": [
        "cd /content/KT-pFL/src"
      ],
      "metadata": {
        "colab": {
          "base_uri": "https://localhost:8080/"
        },
        "id": "gcADx2VxGOG7",
        "outputId": "f26baa81-8d3c-4541-d29c-edab77be8481"
      },
      "execution_count": null,
      "outputs": [
        {
          "output_type": "stream",
          "name": "stdout",
          "text": [
            "/content/KT-pFL/src\n"
          ]
        }
      ]
    },
    {
      "cell_type": "code",
      "source": [
        "!python KT-pFL.py --conf ../conf/CIFAR_balance_conf.json"
      ],
      "metadata": {
        "colab": {
          "base_uri": "https://localhost:8080/"
        },
        "id": "esxjgCLIGRfA",
        "outputId": "a8160f38-1803-4460-cf0e-40859bee010a"
      },
      "execution_count": null,
      "outputs": [
        {
          "output_type": "stream",
          "name": "stdout",
          "text": [
            "Namespace(conf='../conf/CIFAR_balance_conf.json', use_pretrained_model=False, gpu=None, dataset='cifar', iid=True)\n",
            "Files already downloaded and verified\n",
            "Files already downloaded and verified\n",
            "Files already downloaded and verified\n",
            "Files already downloaded and verified\n",
            "X shape : (3000, 32, 32, 3)\n",
            "y shape : (3000,)\n",
            "X shape : (600, 32, 32, 3)\n",
            "y shape : (600,)\n",
            "10    500\n",
            "15    500\n",
            "14    500\n",
            "12    500\n",
            "13    500\n",
            "11    500\n",
            "dtype: int64\n",
            "============================================================\n",
            "============================================================\n",
            "X shape : (600, 32, 32, 3)\n",
            "y shape : (600,)\n",
            "model 0 : CNN_128_256\n",
            "model 1 : CNN_128_384\n",
            "model 2 : CNN_128_512\n",
            "model 3 : CNN_256_256\n",
            "model 4 : CNN_256_512\n",
            "model 5 : CNN_64_128_256\n",
            "model 6 : CNN_64_128_192\n",
            "model 7 : CNN_128_192_256\n",
            "model 8 : CNN_128_128_128\n",
            "model 9 : CNN_128_128_192\n",
            "calculate the theoretical upper bounds for participants: \n",
            "start model initialization: \n",
            "Downloading https://www.cs.toronto.edu/~kriz/cifar-10-python.tar.gz to ./data/cifar-10-python.tar.gz\n",
            "100% 170498071/170498071 [00:01<00:00, 102843737.59it/s]\n",
            "Extracting ./data/cifar-10-python.tar.gz to ./data\n",
            "Files already downloaded and verified\n",
            "100% 10/10 [00:00<00:00, 58.08it/s]\n",
            "\n",
            "Numb samples of each label:\n",
            " [6000, 6000, 6000, 6000, 6000, 6000, 6000, 6000, 6000, 6000]\n",
            "L: 0\n",
            "L: 1\n",
            "L: 2\n",
            "L: 1\n",
            "L: 2\n",
            "L: 3\n",
            "L: 2\n",
            "L: 3\n",
            "L: 4\n",
            "L: 3\n",
            "L: 4\n",
            "L: 5\n",
            "L: 4\n",
            "L: 5\n",
            "L: 6\n",
            "L: 5\n",
            "L: 6\n",
            "L: 7\n",
            "L: 6\n",
            "L: 7\n",
            "L: 8\n",
            "L: 7\n",
            "L: 8\n",
            "L: 9\n",
            "L: 8\n",
            "L: 9\n",
            "L: 0\n",
            "L: 9\n",
            "L: 0\n",
            "L: 1\n",
            "L: 0\n",
            "L: 1\n",
            "L: 2\n",
            "L: 1\n",
            "L: 2\n",
            "L: 3\n",
            "L: 2\n",
            "L: 3\n",
            "L: 4\n",
            "L: 3\n",
            "L: 4\n",
            "L: 5\n",
            "L: 4\n",
            "L: 5\n",
            "L: 6\n",
            "L: 5\n",
            "L: 6\n",
            "L: 7\n",
            "L: 6\n",
            "L: 7\n",
            "L: 8\n",
            "L: 7\n",
            "L: 8\n",
            "L: 9\n",
            "L: 8\n",
            "L: 9\n",
            "L: 0\n",
            "L: 9\n",
            "L: 0\n",
            "L: 1\n",
            "IDX1: [60 60 60 60 60 60 60 60 60 60]\n",
            "  0% 0/20 [00:00<?, ?it/s]check len os user: 0 0 len data 1796 1766\n",
            "check len os user: 0 1 len data 3584 1788\n",
            "check len os user: 0 2 len data 4536 952\n",
            "  5% 1/20 [00:01<00:32,  1.69s/it]check len os user: 1 0 len data 900 870\n",
            "check len os user: 1 1 len data 1624 724\n",
            "check len os user: 1 2 len data 2794 1170\n",
            " 10% 2/20 [00:02<00:22,  1.22s/it]check len os user: 2 0 len data 2246 2216\n",
            "check len os user: 2 1 len data 3346 1100\n",
            "check len os user: 2 2 len data 4494 1148\n",
            " 15% 3/20 [00:04<00:23,  1.40s/it]check len os user: 3 0 len data 1162 1132\n",
            "check len os user: 3 1 len data 1864 702\n",
            "check len os user: 3 2 len data 3418 1554\n",
            " 20% 4/20 [00:05<00:20,  1.31s/it]check len os user: 4 0 len data 800 770\n",
            "check len os user: 4 1 len data 1802 1002\n",
            "check len os user: 4 2 len data 2936 1134\n",
            " 25% 5/20 [00:06<00:19,  1.29s/it]check len os user: 5 0 len data 650 620\n",
            "check len os user: 5 1 len data 1706 1056\n",
            "check len os user: 5 2 len data 2612 906\n",
            " 30% 6/20 [00:07<00:13,  1.01it/s]check len os user: 6 0 len data 918 888\n",
            "check len os user: 6 1 len data 1990 1072\n",
            "check len os user: 6 2 len data 3062 1072\n",
            " 35% 7/20 [00:08<00:15,  1.16s/it]check len os user: 7 0 len data 672 642\n",
            "check len os user: 7 1 len data 1328 656\n",
            "check len os user: 7 2 len data 1954 626\n",
            " 40% 8/20 [00:08<00:10,  1.14it/s]check len os user: 8 0 len data 1202 1172\n",
            "check len os user: 8 1 len data 1810 608\n",
            "check len os user: 8 2 len data 3186 1376\n",
            " 45% 9/20 [00:09<00:08,  1.34it/s]check len os user: 9 0 len data 878 848\n",
            "check len os user: 9 1 len data 1928 1050\n",
            "check len os user: 9 2 len data 2648 720\n",
            " 50% 10/20 [00:11<00:10,  1.06s/it]check len os user: 10 0 len data 1174 1144\n",
            "check len os user: 10 1 len data 2026 852\n",
            "check len os user: 10 2 len data 3076 1050\n",
            " 55% 11/20 [00:11<00:07,  1.15it/s]check len os user: 11 0 len data 1136 1106\n",
            "check len os user: 11 2 len data 2028 892\n",
            " 60% 12/20 [00:11<00:05,  1.44it/s]check len os user: 12 1 len data 1060 1030\n",
            "check len os user: 12 2 len data 1934 874\n",
            " 65% 13/20 [00:14<00:08,  1.19s/it]check len os user: 13 1 len data 938 908\n",
            "check len os user: 13 2 len data 1572 634\n",
            " 70% 14/20 [00:14<00:05,  1.09it/s]check len os user: 14 0 len data 1056 1026\n",
            "check len os user: 14 1 len data 2254 1198\n",
            "check len os user: 14 2 len data 2966 712\n",
            " 75% 15/20 [00:14<00:03,  1.27it/s]check len os user: 15 0 len data 822 792\n",
            "check len os user: 15 1 len data 1724 902\n",
            "check len os user: 15 2 len data 2934 1210\n",
            " 80% 16/20 [00:15<00:02,  1.47it/s]check len os user: 16 0 len data 1068 1038\n",
            "check len os user: 16 1 len data 2250 1182\n",
            "check len os user: 16 2 len data 3294 1044\n",
            " 85% 17/20 [00:18<00:03,  1.29s/it]check len os user: 17 1 len data 884 854\n",
            "check len os user: 17 2 len data 1808 924\n",
            " 90% 18/20 [00:18<00:01,  1.02it/s]check len os user: 18 0 len data 970 940\n",
            "check len os user: 18 1 len data 2170 1200\n",
            " 95% 19/20 [00:18<00:00,  1.28it/s]check len os user: 19 0 len data 1150 1120\n",
            "100% 20/20 [00:18<00:00,  1.07it/s]\n",
            "IDX2: [5396 5396 5002 5384 5488 5860 5790 5072 5798 5386]\n",
            "Traceback (most recent call last):\n",
            "  File \"/content/KT-pFL/src/KT-pFL.py\", line 91, in <module>\n",
            "    main()\n",
            "  File \"/content/KT-pFL/src/KT-pFL.py\", line 67, in main\n",
            "    kt_pfl = KT_pFL(parties,\n",
            "  File \"/content/KT-pFL/src/engine_kt_pfl.py\", line 346, in __init__\n",
            "    X_train, y_train, X_test, y_test = read_user_data(i, newdata, \"Mnist\")\n",
            "  File \"/content/KT-pFL/src/model_utils.py\", line 299, in read_user_data\n",
            "    X_train = torch.Tensor(X_train).view(-1, NUM_CHANNELS, IMAGE_SIZE, IMAGE_SIZE).type(torch.float32)\n",
            "RuntimeError: shape '[-1, 1, 28, 28]' is invalid for input of size 10450944\n"
          ]
        }
      ]
    },
    {
      "cell_type": "code",
      "source": [
        "cd"
      ],
      "metadata": {
        "colab": {
          "base_uri": "https://localhost:8080/"
        },
        "id": "0fo6VzJNPRWU",
        "outputId": "1137dd3d-4dd7-4fd0-cf5d-ebbbd7764559"
      },
      "execution_count": null,
      "outputs": [
        {
          "output_type": "stream",
          "name": "stdout",
          "text": [
            "/root\n"
          ]
        }
      ]
    },
    {
      "cell_type": "code",
      "source": [
        "!zip -r /content/KT-pFL.zip /content/KT-pFL"
      ],
      "metadata": {
        "colab": {
          "base_uri": "https://localhost:8080/"
        },
        "id": "vRMdGwUrPV56",
        "outputId": "ee2ea09e-55e9-42e1-c1a8-a8e85ec9d3ee"
      },
      "execution_count": null,
      "outputs": [
        {
          "output_type": "stream",
          "name": "stdout",
          "text": [
            "  adding: content/KT-pFL/ (stored 0%)\n",
            "  adding: content/KT-pFL/README.md (deflated 9%)\n",
            "  adding: content/KT-pFL/save/ (stored 0%)\n",
            "  adding: content/KT-pFL/save/mnist/ (stored 0%)\n",
            "  adding: content/KT-pFL/save/mnist/iid/ (stored 0%)\n",
            "  adding: content/KT-pFL/save/mnist/iid/col_performance/ (stored 0%)\n",
            "  adding: content/KT-pFL/save/mnist/iid/col_performance/acc.png (deflated 2%)\n",
            "  adding: content/KT-pFL/save/mnist/iid/col_performance.pkl (deflated 56%)\n",
            "  adding: content/KT-pFL/save/mnist/iid/init_result/ (stored 0%)\n",
            "  adding: content/KT-pFL/save/mnist/iid/init_result/train_acc.png (deflated 6%)\n",
            "  adding: content/KT-pFL/save/mnist/no_iid/ (stored 0%)\n",
            "  adding: content/KT-pFL/save/cifar/ (stored 0%)\n",
            "  adding: content/KT-pFL/save/cifar/iid/ (stored 0%)\n",
            "  adding: content/KT-pFL/save/cifar/iid/col_performance/ (stored 0%)\n",
            "  adding: content/KT-pFL/save/cifar/iid/col_performance/acc.png (deflated 2%)\n",
            "  adding: content/KT-pFL/save/cifar/iid/col_performance.pkl (deflated 59%)\n",
            "  adding: content/KT-pFL/save/cifar/iid/pre_train_result.pkl (deflated 31%)\n",
            "  adding: content/KT-pFL/save/cifar/iid/init_result/ (stored 0%)\n",
            "  adding: content/KT-pFL/save/cifar/iid/init_result/train_acc.png (deflated 4%)\n",
            "  adding: content/KT-pFL/save/cifar/iid/init_result/val_acc.png (deflated 3%)\n",
            "  adding: content/KT-pFL/save/cifar/iid/init_result/train_loss.png (deflated 4%)\n",
            "  adding: content/KT-pFL/save/cifar/iid/init_result/val_loss.png (deflated 4%)\n",
            "  adding: content/KT-pFL/save/cifar/iid/pooled_train_result.pkl (deflated 84%)\n",
            "  adding: content/KT-pFL/save/cifar/iid/init_result.pkl (deflated 60%)\n",
            "  adding: content/KT-pFL/save/cifar/iid/pre_train_result/ (stored 0%)\n",
            "  adding: content/KT-pFL/save/cifar/iid/pre_train_result/train_acc.png (deflated 3%)\n",
            "  adding: content/KT-pFL/save/cifar/iid/pre_train_result/val_acc.png (deflated 3%)\n",
            "  adding: content/KT-pFL/save/cifar/iid/pre_train_result/train_loss.png (deflated 5%)\n",
            "  adding: content/KT-pFL/save/cifar/iid/pre_train_result/val_loss.png (deflated 4%)\n",
            "  adding: content/KT-pFL/save/cifar/iid/pooled_train_result/ (stored 0%)\n",
            "  adding: content/KT-pFL/save/cifar/iid/pooled_train_result/val_acc.png (deflated 5%)\n",
            "  adding: content/KT-pFL/save/cifar/iid/pooled_train_result/acc.png (deflated 6%)\n",
            "  adding: content/KT-pFL/save/cifar/no_iid/ (stored 0%)\n",
            "  adding: content/KT-pFL/save/cifar/no_iid/col_performance/ (stored 0%)\n",
            "  adding: content/KT-pFL/save/cifar/no_iid/col_performance/acc.png (deflated 2%)\n",
            "  adding: content/KT-pFL/save/cifar/no_iid/col_performance.pkl (deflated 52%)\n",
            "  adding: content/KT-pFL/save/cifar/no_iid/pre_train_result.pkl (deflated 31%)\n",
            "  adding: content/KT-pFL/save/cifar/no_iid/init_result/ (stored 0%)\n",
            "  adding: content/KT-pFL/save/cifar/no_iid/init_result/train_acc.png (deflated 7%)\n",
            "  adding: content/KT-pFL/save/cifar/no_iid/init_result/val_acc.png (deflated 4%)\n",
            "  adding: content/KT-pFL/save/cifar/no_iid/init_result/train_loss.png (deflated 7%)\n",
            "  adding: content/KT-pFL/save/cifar/no_iid/init_result/val_loss.png (deflated 3%)\n",
            "  adding: content/KT-pFL/save/cifar/no_iid/pooled_train_result.pkl (deflated 73%)\n",
            "  adding: content/KT-pFL/save/cifar/no_iid/init_result.pkl (deflated 57%)\n",
            "  adding: content/KT-pFL/save/cifar/no_iid/pre_train_result/ (stored 0%)\n",
            "  adding: content/KT-pFL/save/cifar/no_iid/pre_train_result/train_acc.png (deflated 3%)\n",
            "  adding: content/KT-pFL/save/cifar/no_iid/pre_train_result/val_acc.png (deflated 2%)\n",
            "  adding: content/KT-pFL/save/cifar/no_iid/pre_train_result/train_loss.png (deflated 4%)\n",
            "  adding: content/KT-pFL/save/cifar/no_iid/pre_train_result/val_loss.png (deflated 4%)\n",
            "  adding: content/KT-pFL/save/cifar/no_iid/pooled_train_result/ (stored 0%)\n",
            "  adding: content/KT-pFL/save/cifar/no_iid/pooled_train_result/val_acc.png (deflated 1%)\n",
            "  adding: content/KT-pFL/save/cifar/no_iid/pooled_train_result/acc.png (deflated 5%)\n",
            "  adding: content/KT-pFL/requirments.txt (deflated 9%)\n",
            "  adding: content/KT-pFL/data/ (stored 0%)\n",
            "  adding: content/KT-pFL/data/cifar100/ (stored 0%)\n",
            "  adding: content/KT-pFL/data/cifar100/cifar-100-python/ (stored 0%)\n",
            "  adding: content/KT-pFL/data/cifar100/cifar-100-python/test (deflated 9%)\n",
            "  adding: content/KT-pFL/data/cifar100/cifar-100-python/train (deflated 9%)\n",
            "  adding: content/KT-pFL/data/cifar100/cifar-100-python/meta (deflated 36%)\n",
            "  adding: content/KT-pFL/data/cifar100/cifar-100-python/file.txt~ (stored 0%)\n",
            "  adding: content/KT-pFL/data/cifar100/cifar-100-python.tar.gz (deflated 0%)\n",
            "  adding: content/KT-pFL/data/fmnist/ (stored 0%)\n",
            "  adding: content/KT-pFL/data/fmnist/FashionMNIST/ (stored 0%)\n",
            "  adding: content/KT-pFL/data/fmnist/FashionMNIST/raw/ (stored 0%)\n",
            "  adding: content/KT-pFL/data/fmnist/FashionMNIST/raw/train-images-idx3-ubyte (deflated 44%)\n",
            "  adding: content/KT-pFL/data/fmnist/FashionMNIST/raw/t10k-images-idx3-ubyte.gz (deflated 0%)\n",
            "  adding: content/KT-pFL/data/fmnist/FashionMNIST/raw/t10k-labels-idx1-ubyte.gz (stored 0%)\n",
            "  adding: content/KT-pFL/data/fmnist/FashionMNIST/raw/train-labels-idx1-ubyte.gz (stored 0%)\n",
            "  adding: content/KT-pFL/data/fmnist/FashionMNIST/raw/train-labels-idx1-ubyte (deflated 51%)\n",
            "  adding: content/KT-pFL/data/fmnist/FashionMNIST/raw/t10k-images-idx3-ubyte (deflated 44%)\n",
            "  adding: content/KT-pFL/data/fmnist/FashionMNIST/raw/train-images-idx3-ubyte.gz (deflated 0%)\n",
            "  adding: content/KT-pFL/data/fmnist/FashionMNIST/raw/t10k-labels-idx1-ubyte (deflated 49%)\n",
            "  adding: content/KT-pFL/data/cifar10/ (stored 0%)\n",
            "  adding: content/KT-pFL/data/cifar10/cifar-10-python.tar.gz (deflated 0%)\n",
            "  adding: content/KT-pFL/data/cifar10/cifar-10-batches-py/ (stored 0%)\n",
            "  adding: content/KT-pFL/data/cifar10/cifar-10-batches-py/readme.html (stored 0%)\n",
            "  adding: content/KT-pFL/data/cifar10/cifar-10-batches-py/data_batch_5 (deflated 8%)\n",
            "  adding: content/KT-pFL/data/cifar10/cifar-10-batches-py/data_batch_4 (deflated 8%)\n",
            "  adding: content/KT-pFL/data/cifar10/cifar-10-batches-py/data_batch_2 (deflated 8%)\n",
            "  adding: content/KT-pFL/data/cifar10/cifar-10-batches-py/data_batch_3 (deflated 8%)\n",
            "  adding: content/KT-pFL/data/cifar10/cifar-10-batches-py/data_batch_1 (deflated 9%)\n",
            "  adding: content/KT-pFL/data/cifar10/cifar-10-batches-py/batches.meta (deflated 12%)\n",
            "  adding: content/KT-pFL/data/cifar10/cifar-10-batches-py/test_batch (deflated 8%)\n",
            "  adding: content/KT-pFL/data/mnist/ (stored 0%)\n",
            "  adding: content/KT-pFL/data/mnist/MNIST/ (stored 0%)\n",
            "  adding: content/KT-pFL/data/mnist/MNIST/raw/ (stored 0%)\n",
            "  adding: content/KT-pFL/data/mnist/MNIST/raw/train-images-idx3-ubyte (deflated 79%)\n",
            "  adding: content/KT-pFL/data/mnist/MNIST/raw/t10k-images-idx3-ubyte.gz (deflated 0%)\n",
            "  adding: content/KT-pFL/data/mnist/MNIST/raw/t10k-labels-idx1-ubyte.gz (stored 0%)\n",
            "  adding: content/KT-pFL/data/mnist/MNIST/raw/train-labels-idx1-ubyte.gz (stored 0%)\n",
            "  adding: content/KT-pFL/data/mnist/MNIST/raw/train-labels-idx1-ubyte (deflated 52%)\n",
            "  adding: content/KT-pFL/data/mnist/MNIST/raw/t10k-images-idx3-ubyte (deflated 79%)\n",
            "  adding: content/KT-pFL/data/mnist/MNIST/raw/train-images-idx3-ubyte.gz (deflated 0%)\n",
            "  adding: content/KT-pFL/data/mnist/MNIST/raw/t10k-labels-idx1-ubyte (deflated 55%)\n",
            "  adding: content/KT-pFL/.git/ (stored 0%)\n",
            "  adding: content/KT-pFL/.git/objects/ (stored 0%)\n",
            "  adding: content/KT-pFL/.git/objects/info/ (stored 0%)\n",
            "  adding: content/KT-pFL/.git/objects/pack/ (stored 0%)\n",
            "  adding: content/KT-pFL/.git/objects/pack/pack-cfad06e426e711a75ad4b6e811be19512cf4cc8c.pack (deflated 0%)\n",
            "  adding: content/KT-pFL/.git/objects/pack/pack-cfad06e426e711a75ad4b6e811be19512cf4cc8c.idx (deflated 17%)\n",
            "  adding: content/KT-pFL/.git/HEAD (stored 0%)\n",
            "  adding: content/KT-pFL/.git/refs/ (stored 0%)\n",
            "  adding: content/KT-pFL/.git/refs/remotes/ (stored 0%)\n",
            "  adding: content/KT-pFL/.git/refs/remotes/origin/ (stored 0%)\n",
            "  adding: content/KT-pFL/.git/refs/remotes/origin/HEAD (stored 0%)\n",
            "  adding: content/KT-pFL/.git/refs/tags/ (stored 0%)\n",
            "  adding: content/KT-pFL/.git/refs/heads/ (stored 0%)\n",
            "  adding: content/KT-pFL/.git/refs/heads/main (stored 0%)\n",
            "  adding: content/KT-pFL/.git/config (deflated 32%)\n",
            "  adding: content/KT-pFL/.git/info/ (stored 0%)\n",
            "  adding: content/KT-pFL/.git/info/exclude (deflated 28%)\n",
            "  adding: content/KT-pFL/.git/branches/ (stored 0%)\n",
            "  adding: content/KT-pFL/.git/description (deflated 14%)\n",
            "  adding: content/KT-pFL/.git/packed-refs (deflated 9%)\n",
            "  adding: content/KT-pFL/.git/hooks/ (stored 0%)\n",
            "  adding: content/KT-pFL/.git/hooks/pre-merge-commit.sample (deflated 39%)\n",
            "  adding: content/KT-pFL/.git/hooks/post-update.sample (deflated 27%)\n",
            "  adding: content/KT-pFL/.git/hooks/update.sample (deflated 68%)\n",
            "  adding: content/KT-pFL/.git/hooks/commit-msg.sample (deflated 44%)\n",
            "  adding: content/KT-pFL/.git/hooks/prepare-commit-msg.sample (deflated 50%)\n",
            "  adding: content/KT-pFL/.git/hooks/pre-push.sample (deflated 50%)\n",
            "  adding: content/KT-pFL/.git/hooks/pre-applypatch.sample (deflated 38%)\n",
            "  adding: content/KT-pFL/.git/hooks/pre-receive.sample (deflated 40%)\n",
            "  adding: content/KT-pFL/.git/hooks/pre-commit.sample (deflated 45%)\n",
            "  adding: content/KT-pFL/.git/hooks/fsmonitor-watchman.sample (deflated 52%)\n",
            "  adding: content/KT-pFL/.git/hooks/applypatch-msg.sample (deflated 42%)\n",
            "  adding: content/KT-pFL/.git/hooks/pre-rebase.sample (deflated 59%)\n",
            "  adding: content/KT-pFL/.git/logs/ (stored 0%)\n",
            "  adding: content/KT-pFL/.git/logs/HEAD (deflated 26%)\n",
            "  adding: content/KT-pFL/.git/logs/refs/ (stored 0%)\n",
            "  adding: content/KT-pFL/.git/logs/refs/remotes/ (stored 0%)\n",
            "  adding: content/KT-pFL/.git/logs/refs/remotes/origin/ (stored 0%)\n",
            "  adding: content/KT-pFL/.git/logs/refs/remotes/origin/HEAD (deflated 26%)\n",
            "  adding: content/KT-pFL/.git/logs/refs/heads/ (stored 0%)\n",
            "  adding: content/KT-pFL/.git/logs/refs/heads/main (deflated 26%)\n",
            "  adding: content/KT-pFL/.git/index (deflated 62%)\n",
            "  adding: content/KT-pFL/pretained_model/ (stored 0%)\n",
            "  adding: content/KT-pFL/pretained_model/mnist/ (stored 0%)\n",
            "  adding: content/KT-pFL/pretained_model/mnist/no_iid/ (stored 0%)\n",
            "  adding: content/KT-pFL/pretained_model/cifar/ (stored 0%)\n",
            "  adding: content/KT-pFL/pretained_model/cifar/iid/ (stored 0%)\n",
            "  adding: content/KT-pFL/pretained_model/cifar/no_iid/ (stored 0%)\n",
            "  adding: content/KT-pFL/conf/ (stored 0%)\n",
            "  adding: content/KT-pFL/conf/EMNIST_imbalance_10models_T10_20local.json (deflated 74%)\n",
            "  adding: content/KT-pFL/conf/EMNIST_imbalance_20models_T1.json (deflated 81%)\n",
            "  adding: content/KT-pFL/conf/EMNIST_imbalance_10models_T10_5local.json (deflated 74%)\n",
            "  adding: content/KT-pFL/conf/EMNIST_imbalance_10models_T10_10local_p2.0.json (deflated 75%)\n",
            "  adding: content/KT-pFL/conf/EMNIST_imbalance_10models_T10_10local_2dis.json (deflated 74%)\n",
            "  adding: content/KT-pFL/conf/CIFAR_balance_conf.json (deflated 73%)\n",
            "  adding: content/KT-pFL/conf/EMNIST_imbalance_10models_T10_10local_5dis.json (deflated 74%)\n",
            "  adding: content/KT-pFL/conf/EMNIST_imbalance_10models_T10_4local.json (deflated 74%)\n",
            "  adding: content/KT-pFL/conf/EMNIST_imbalance_10models_T10_10local_N1000.json (deflated 75%)\n",
            "  adding: content/KT-pFL/conf/EMNIST_imbalance_10models_T10_10local_N3000.json (deflated 75%)\n",
            "  adding: content/KT-pFL/conf/EMNIST_imbalance_10models_T10_10local_p0.1.json (deflated 75%)\n",
            "  adding: content/KT-pFL/conf/EMNIST_imbalance_10models_T10_15local.json (deflated 74%)\n",
            "  adding: content/KT-pFL/conf/EMNIST_imbalance_10models_T10_10local_4dis.json (deflated 74%)\n",
            "  adding: content/KT-pFL/conf/EMNIST_imbalance_10models_T10_2local.json (deflated 74%)\n",
            "  adding: content/KT-pFL/conf/EMNIST_imbalance_10models_T10_10local_p1.0.json (deflated 75%)\n",
            "  adding: content/KT-pFL/conf/EMNIST_imbalance_10models_T10_10local_N2000.json (deflated 74%)\n",
            "  adding: content/KT-pFL/conf/CIFAR_imbalance_conf.json (deflated 74%)\n",
            "  adding: content/KT-pFL/conf/EMNIST_imbalance_10models_T10_10local_p0.7.json (deflated 74%)\n",
            "  adding: content/KT-pFL/conf/EMNIST_imbalance_10models_T10_10local_N4000.json (deflated 74%)\n",
            "  adding: content/KT-pFL/conf/EMNIST_imbalance_10models_T10_3local.json (deflated 74%)\n",
            "  adding: content/KT-pFL/conf/EMNIST_imbalance_10models_T10_10local_p0.3.json (deflated 75%)\n",
            "  adding: content/KT-pFL/conf/EMNIST_imbalance_10models_T10_10local_N500.json (deflated 75%)\n",
            "  adding: content/KT-pFL/conf/EMNIST_imbalance_10models_T10_10local_p1.5.json (deflated 75%)\n",
            "  adding: content/KT-pFL/conf/EMNIST_imbalance_20models_T10.json (deflated 81%)\n",
            "  adding: content/KT-pFL/conf/EMNIST_balance_conf.json (deflated 74%)\n",
            "  adding: content/KT-pFL/conf/EMNIST_imbalance_10models_T10_1local.json (deflated 75%)\n",
            "  adding: content/KT-pFL/conf/EMNIST_imbalance_10models_T10_10local_3dis.json (deflated 74%)\n",
            "  adding: content/KT-pFL/conf/EMNIST_imbalance_10models_T10_10local_p0.5.json (deflated 74%)\n",
            "  adding: content/KT-pFL/conf/EMNIST_imbalance_10models_T10_10local_p2.5.json (deflated 74%)\n",
            "  adding: content/KT-pFL/conf/EMNIST_imbalance_10models_T10_10local_p3.0.json (deflated 74%)\n",
            "  adding: content/KT-pFL/conf/EMNIST_imbalance_20models.json (deflated 81%)\n",
            "  adding: content/KT-pFL/src/ (stored 0%)\n",
            "  adding: content/KT-pFL/src/KT-pFL_cos.py (deflated 65%)\n",
            "  adding: content/KT-pFL/src/new_model.py (deflated 81%)\n",
            "  adding: content/KT-pFL/src/FedMD_main.py (deflated 65%)\n",
            "  adding: content/KT-pFL/src/model.py (deflated 80%)\n",
            "  adding: content/KT-pFL/src/sampling.py (deflated 81%)\n",
            "  adding: content/KT-pFL/src/model_utils.py (deflated 76%)\n",
            "  adding: content/KT-pFL/src/KT-pFL.py (deflated 65%)\n",
            "  adding: content/KT-pFL/src/engine_cos.py (deflated 78%)\n",
            "  adding: content/KT-pFL/src/data/ (stored 0%)\n",
            "  adding: content/KT-pFL/src/data/cifar-10-python.tar.gz (deflated 0%)\n",
            "  adding: content/KT-pFL/src/data/test/ (stored 0%)\n",
            "  adding: content/KT-pFL/src/data/train/ (stored 0%)\n",
            "  adding: content/KT-pFL/src/data/cifar-10-batches-py/ (stored 0%)\n",
            "  adding: content/KT-pFL/src/data/cifar-10-batches-py/readme.html (stored 0%)\n",
            "  adding: content/KT-pFL/src/data/cifar-10-batches-py/data_batch_5 (deflated 8%)\n",
            "  adding: content/KT-pFL/src/data/cifar-10-batches-py/data_batch_4 (deflated 8%)\n",
            "  adding: content/KT-pFL/src/data/cifar-10-batches-py/data_batch_2 (deflated 8%)\n",
            "  adding: content/KT-pFL/src/data/cifar-10-batches-py/data_batch_3 (deflated 8%)\n",
            "  adding: content/KT-pFL/src/data/cifar-10-batches-py/data_batch_1 (deflated 9%)\n",
            "  adding: content/KT-pFL/src/data/cifar-10-batches-py/batches.meta (deflated 12%)\n",
            "  adding: content/KT-pFL/src/data/cifar-10-batches-py/test_batch (deflated 8%)\n",
            "  adding: content/KT-pFL/src/engine_normal.py (deflated 79%)\n",
            "  adding: content/KT-pFL/src/engine_kt_pfl.py (deflated 79%)\n",
            "  adding: content/KT-pFL/src/engine_topk.py (deflated 78%)\n",
            "  adding: content/KT-pFL/src/plot_data.py (deflated 70%)\n",
            "  adding: content/KT-pFL/src/data_utils.py (deflated 76%)\n",
            "  adding: content/KT-pFL/src/KT-pFL_topk.py (deflated 65%)\n",
            "  adding: content/KT-pFL/src/options.py (deflated 56%)\n",
            "  adding: content/KT-pFL/src/__pycache__/ (stored 0%)\n",
            "  adding: content/KT-pFL/src/__pycache__/FedMD.cpython-37.pyc (deflated 18%)\n",
            "  adding: content/KT-pFL/src/__pycache__/options.cpython-310.pyc (deflated 34%)\n",
            "  adding: content/KT-pFL/src/__pycache__/data_utils.cpython-310.pyc (deflated 50%)\n",
            "  adding: content/KT-pFL/src/__pycache__/engine_learnweight.cpython-36.pyc (deflated 46%)\n",
            "  adding: content/KT-pFL/src/__pycache__/model.cpython-36.pyc (deflated 62%)\n",
            "  adding: content/KT-pFL/src/__pycache__/engine_kt_pfl.cpython-310.pyc (deflated 45%)\n",
            "  adding: content/KT-pFL/src/__pycache__/sampling.cpython-36.pyc (deflated 61%)\n",
            "  adding: content/KT-pFL/src/__pycache__/model.cpython-310.pyc (deflated 60%)\n",
            "  adding: content/KT-pFL/src/__pycache__/engine_normal.cpython-36.pyc (deflated 47%)\n",
            "  adding: content/KT-pFL/src/__pycache__/utils.cpython-37.pyc (deflated 50%)\n",
            "  adding: content/KT-pFL/src/__pycache__/data_utils.cpython-36.pyc (deflated 50%)\n",
            "  adding: content/KT-pFL/src/__pycache__/engine_topk.cpython-36.pyc (deflated 46%)\n",
            "  adding: content/KT-pFL/src/__pycache__/Neural_Networks.cpython-37.pyc (deflated 50%)\n",
            "  adding: content/KT-pFL/src/__pycache__/model_utils.cpython-36.pyc (deflated 53%)\n",
            "  adding: content/KT-pFL/src/__pycache__/models.cpython-37.pyc (deflated 57%)\n",
            "  adding: content/KT-pFL/src/__pycache__/model_utils.cpython-310.pyc (deflated 51%)\n",
            "  adding: content/KT-pFL/src/__pycache__/engine_without.cpython-36.pyc (deflated 46%)\n",
            "  adding: content/KT-pFL/src/__pycache__/options.cpython-36.pyc (deflated 33%)\n",
            "  adding: content/KT-pFL/src/__pycache__/engine.cpython-36.pyc (deflated 46%)\n",
            "  adding: content/KT-pFL/src/__pycache__/engine_learnweight_softmax.cpython-36.pyc (deflated 47%)\n",
            "  adding: content/KT-pFL/src/__pycache__/engine_cos.cpython-36.pyc (deflated 46%)\n",
            "  adding: content/KT-pFL/src/__pycache__/sampling.cpython-310.pyc (deflated 58%)\n",
            "  adding: content/KT-pFL/src/__pycache__/data_utils.cpython-37.pyc (deflated 51%)\n",
            "  adding: content/KT-pFL/src/__pycache__/update.cpython-37.pyc (deflated 45%)\n",
            "  adding: content/KT-pFL/src/__pycache__/options.cpython-37.pyc (deflated 48%)\n",
            "  adding: content/KT-pFL/src/__pycache__/sampling.cpython-37.pyc (deflated 62%)\n"
          ]
        }
      ]
    },
    {
      "cell_type": "code",
      "source": [
        "!zip -r /content/KT-pFL/data.zip /content/KT-pFL/data"
      ],
      "metadata": {
        "colab": {
          "base_uri": "https://localhost:8080/"
        },
        "id": "JAuZOZcbTM11",
        "outputId": "66a32bc7-7326-437e-dc7a-3febb991f781"
      },
      "execution_count": 17,
      "outputs": [
        {
          "output_type": "stream",
          "name": "stdout",
          "text": [
            "  adding: content/KT-pFL/data/ (stored 0%)\n",
            "  adding: content/KT-pFL/data/cifar100/ (stored 0%)\n",
            "  adding: content/KT-pFL/data/cifar100/cifar-100-python/ (stored 0%)\n",
            "  adding: content/KT-pFL/data/cifar100/cifar-100-python/test (deflated 9%)\n",
            "  adding: content/KT-pFL/data/cifar100/cifar-100-python/train (deflated 9%)\n",
            "  adding: content/KT-pFL/data/cifar100/cifar-100-python/meta (deflated 36%)\n",
            "  adding: content/KT-pFL/data/cifar100/cifar-100-python/file.txt~ (stored 0%)\n",
            "  adding: content/KT-pFL/data/cifar100/cifar-100-python.tar.gz (deflated 0%)\n",
            "  adding: content/KT-pFL/data/fmnist/ (stored 0%)\n",
            "  adding: content/KT-pFL/data/fmnist/FashionMNIST/ (stored 0%)\n",
            "  adding: content/KT-pFL/data/fmnist/FashionMNIST/raw/ (stored 0%)\n",
            "  adding: content/KT-pFL/data/fmnist/FashionMNIST/raw/train-images-idx3-ubyte (deflated 44%)\n",
            "  adding: content/KT-pFL/data/fmnist/FashionMNIST/raw/t10k-images-idx3-ubyte.gz (deflated 0%)\n",
            "  adding: content/KT-pFL/data/fmnist/FashionMNIST/raw/t10k-labels-idx1-ubyte.gz (stored 0%)\n",
            "  adding: content/KT-pFL/data/fmnist/FashionMNIST/raw/train-labels-idx1-ubyte.gz (stored 0%)\n",
            "  adding: content/KT-pFL/data/fmnist/FashionMNIST/raw/train-labels-idx1-ubyte (deflated 51%)\n",
            "  adding: content/KT-pFL/data/fmnist/FashionMNIST/raw/t10k-images-idx3-ubyte (deflated 44%)\n",
            "  adding: content/KT-pFL/data/fmnist/FashionMNIST/raw/train-images-idx3-ubyte.gz (deflated 0%)\n",
            "  adding: content/KT-pFL/data/fmnist/FashionMNIST/raw/t10k-labels-idx1-ubyte (deflated 49%)\n",
            "  adding: content/KT-pFL/data/cifar10/ (stored 0%)\n",
            "  adding: content/KT-pFL/data/cifar10/cifar-10-python.tar.gz (deflated 0%)\n",
            "  adding: content/KT-pFL/data/cifar10/cifar-10-batches-py/ (stored 0%)\n",
            "  adding: content/KT-pFL/data/cifar10/cifar-10-batches-py/readme.html (stored 0%)\n",
            "  adding: content/KT-pFL/data/cifar10/cifar-10-batches-py/data_batch_5 (deflated 8%)\n",
            "  adding: content/KT-pFL/data/cifar10/cifar-10-batches-py/data_batch_4 (deflated 8%)\n",
            "  adding: content/KT-pFL/data/cifar10/cifar-10-batches-py/data_batch_2 (deflated 8%)\n",
            "  adding: content/KT-pFL/data/cifar10/cifar-10-batches-py/data_batch_3 (deflated 8%)\n",
            "  adding: content/KT-pFL/data/cifar10/cifar-10-batches-py/data_batch_1 (deflated 9%)\n",
            "  adding: content/KT-pFL/data/cifar10/cifar-10-batches-py/batches.meta (deflated 12%)\n",
            "  adding: content/KT-pFL/data/cifar10/cifar-10-batches-py/test_batch (deflated 8%)\n",
            "  adding: content/KT-pFL/data/mnist/ (stored 0%)\n",
            "  adding: content/KT-pFL/data/mnist/MNIST/ (stored 0%)\n",
            "  adding: content/KT-pFL/data/mnist/MNIST/raw/ (stored 0%)\n",
            "  adding: content/KT-pFL/data/mnist/MNIST/raw/train-images-idx3-ubyte (deflated 79%)\n",
            "  adding: content/KT-pFL/data/mnist/MNIST/raw/t10k-images-idx3-ubyte.gz (deflated 0%)\n",
            "  adding: content/KT-pFL/data/mnist/MNIST/raw/t10k-labels-idx1-ubyte.gz (stored 0%)\n",
            "  adding: content/KT-pFL/data/mnist/MNIST/raw/train-labels-idx1-ubyte.gz (stored 0%)\n",
            "  adding: content/KT-pFL/data/mnist/MNIST/raw/train-labels-idx1-ubyte (deflated 52%)\n",
            "  adding: content/KT-pFL/data/mnist/MNIST/raw/t10k-images-idx3-ubyte (deflated 79%)\n",
            "  adding: content/KT-pFL/data/mnist/MNIST/raw/train-images-idx3-ubyte.gz (deflated 0%)\n",
            "  adding: content/KT-pFL/data/mnist/MNIST/raw/t10k-labels-idx1-ubyte (deflated 55%)\n"
          ]
        }
      ]
    },
    {
      "cell_type": "code",
      "source": [
        "!zip -r /content/KT-pFL/pretained_model.zip /content/KT-pFL/pretained_model"
      ],
      "metadata": {
        "colab": {
          "base_uri": "https://localhost:8080/"
        },
        "id": "AflhdzfGTnWS",
        "outputId": "37ef5855-0d4e-4391-909c-c0c0f08bb723"
      },
      "execution_count": 19,
      "outputs": [
        {
          "output_type": "stream",
          "name": "stdout",
          "text": [
            "  adding: content/KT-pFL/pretained_model/ (stored 0%)\n",
            "  adding: content/KT-pFL/pretained_model/mnist/ (stored 0%)\n",
            "  adding: content/KT-pFL/pretained_model/mnist/no_iid/ (stored 0%)\n",
            "  adding: content/KT-pFL/pretained_model/cifar/ (stored 0%)\n",
            "  adding: content/KT-pFL/pretained_model/cifar/iid/ (stored 0%)\n",
            "  adding: content/KT-pFL/pretained_model/cifar/no_iid/ (stored 0%)\n"
          ]
        }
      ]
    },
    {
      "cell_type": "code",
      "source": [],
      "metadata": {
        "colab": {
          "base_uri": "https://localhost:8080/"
        },
        "id": "PRRsfH1oYHZG",
        "outputId": "3b7f9e41-3729-4423-bed1-fb582a615d91"
      },
      "execution_count": 21,
      "outputs": [
        {
          "output_type": "stream",
          "name": "stdout",
          "text": [
            "/bin/bash: re: command not found\n"
          ]
        }
      ]
    }
  ]
}